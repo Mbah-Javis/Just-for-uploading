{
 "cells": [
  {
   "cell_type": "code",
   "execution_count": 1,
   "metadata": {},
   "outputs": [],
   "source": [
    "#Importing the neccessary modules\n",
    "import tensorflow as tf\n",
    "import numpy as np \n",
    "import pandas as pd\n",
    "import matplotlib.pyplot as plt"
   ]
  },
  {
   "cell_type": "code",
   "execution_count": 2,
   "metadata": {},
   "outputs": [],
   "source": [
    "#the training and testing datasets in csv format\n",
    "train_data = \"fashion-mnist_train.csv\"\n",
    "test_data = \"fashion-mnist_test.csv\""
   ]
  },
  {
   "cell_type": "code",
   "execution_count": 3,
   "metadata": {},
   "outputs": [],
   "source": [
    "#reading the train_data and test_data usign the pandas libary\n",
    "train = pd.read_csv(train_data)\n",
    "test = pd.read_csv(test_data)"
   ]
  },
  {
   "cell_type": "code",
   "execution_count": 5,
   "metadata": {},
   "outputs": [],
   "source": [
    "#print(\"Test\\n\\n\", train.head() , \"\\n\\n\")\n",
    "#print(\"Train\\n\\n\" , test.head() , \"\\n\\n\")"
   ]
  },
  {
   "cell_type": "code",
   "execution_count": 6,
   "metadata": {},
   "outputs": [],
   "source": [
    "#function to get the features and labels from the train and test data\n",
    "def get_features_labels(data):\n",
    "    features = data.values[:, 1:]/255\n",
    "    labels = data['label'].values\n",
    "    return features, labels"
   ]
  },
  {
   "cell_type": "code",
   "execution_count": 7,
   "metadata": {},
   "outputs": [
    {
     "name": "stdout",
     "output_type": "stream",
     "text": [
      "(60000, 784)\n",
      "(10000, 784)\n"
     ]
    }
   ],
   "source": [
    "#getting the features and labels \n",
    "train_features, train_labels = get_features_labels(train)\n",
    "test_features, test_labels = get_features_labels(test)\n",
    "\n",
    "#printing their shapes\n",
    "print(train_features.shape)\n",
    "print(test_features.shape)\n"
   ]
  },
  {
   "cell_type": "code",
   "execution_count": 8,
   "metadata": {},
   "outputs": [
    {
     "name": "stdout",
     "output_type": "stream",
     "text": [
      "WARNING:tensorflow:From C:\\ProgramData\\Anaconda3\\envs\\tensorflow_cpu\\lib\\site-packages\\tensorflow_core\\python\\ops\\resource_variable_ops.py:1630: calling BaseResourceVariable.__init__ (from tensorflow.python.ops.resource_variable_ops) with constraint is deprecated and will be removed in a future version.\n",
      "Instructions for updating:\n",
      "If using Keras pass *_constraint arguments to layers.\n",
      "Model: \"sequential\"\n",
      "_________________________________________________________________\n",
      "Layer (type)                 Output Shape              Param #   \n",
      "=================================================================\n",
      "dense (Dense)                (None, 30)                23550     \n",
      "_________________________________________________________________\n",
      "dense_1 (Dense)              (None, 20)                620       \n",
      "_________________________________________________________________\n",
      "dense_2 (Dense)              (None, 10)                210       \n",
      "=================================================================\n",
      "Total params: 24,380\n",
      "Trainable params: 24,380\n",
      "Non-trainable params: 0\n",
      "_________________________________________________________________\n"
     ]
    }
   ],
   "source": [
    "# Building the keras model with the relu and softmax activation fuctions\n",
    "model = tf.keras.Sequential()\n",
    "model.add(tf.keras.layers.Dense(30, activation=tf.nn.relu, input_shape=(784,)))\n",
    "model.add(tf.keras.layers.Dense(20, activation=tf.nn.relu))\n",
    "model.add(tf.keras.layers.Dense(10, activation=tf.nn.softmax))\n",
    "\n",
    "#Compiling the model and printing the summary()\n",
    "model.compile(loss='categorical_crossentropy',\n",
    "              optimizer='rmsprop',\n",
    "              metrics=['accuracy'])\n",
    "\n",
    "model.summary()\n"
   ]
  },
  {
   "cell_type": "code",
   "execution_count": 9,
   "metadata": {},
   "outputs": [
    {
     "name": "stdout",
     "output_type": "stream",
     "text": [
      "Train on 60000 samples\n",
      "Epoch 1/5\n",
      "60000/60000 [==============================] - 19s 319us/sample - loss: 0.6726 - acc: 0.7700\n",
      "Epoch 2/5\n",
      "60000/60000 [==============================] - 13s 220us/sample - loss: 0.4594 - acc: 0.8378\n",
      "Epoch 3/5\n",
      "60000/60000 [==============================] - 13s 223us/sample - loss: 0.4193 - acc: 0.8525\n",
      "Epoch 4/5\n",
      "60000/60000 [==============================] - 13s 222us/sample - loss: 0.3960 - acc: 0.8582\n",
      "Epoch 5/5\n",
      "60000/60000 [==============================] - 32s 537us/sample - loss: 0.3785 - acc: 0.8664\n"
     ]
    },
    {
     "data": {
      "text/plain": [
       "<tensorflow.python.keras.callbacks.History at 0x53604509c8>"
      ]
     },
     "execution_count": 9,
     "metadata": {},
     "output_type": "execute_result"
    }
   ],
   "source": [
    "#encoding the labels becuase i am using categorical_crossentropy in compiling the model\n",
    "train_labels_1hot = tf.keras.utils.to_categorical(train_labels)\n",
    "test_labels_1hot = tf.keras.utils.to_categorical(test_labels)\n",
    "\n",
    "model.fit(train_features, train_labels_1hot, epochs=5, batch_size=128)"
   ]
  },
  {
   "cell_type": "code",
   "execution_count": 10,
   "metadata": {},
   "outputs": [
    {
     "name": "stdout",
     "output_type": "stream",
     "text": [
      "10000/10000 [==============================] - 2s 194us/sample - loss: 0.3774 - acc: 0.8661\n",
      "Test Loss =  0.3774197867155075\n",
      "Test accuracy =  0.8661\n"
     ]
    }
   ],
   "source": [
    "#evaluate the model and print its loss and accuracy\n",
    "test_loss, test_accuracy = model.evaluate(test_features, test_labels_1hot)\n",
    "\n",
    "print(\"Test Loss = \", test_loss)\n",
    "print(\"Test accuracy = \", test_accuracy)"
   ]
  },
  {
   "cell_type": "code",
   "execution_count": 11,
   "metadata": {},
   "outputs": [],
   "source": [
    "#Then i save the model trained with keras\n",
    "model.save('keras_model.h5')"
   ]
  },
  {
   "cell_type": "code",
   "execution_count": 12,
   "metadata": {},
   "outputs": [
    {
     "name": "stdout",
     "output_type": "stream",
     "text": [
      "INFO:tensorflow:Using default config.\n",
      "WARNING:tensorflow:Using temporary folder as model directory: C:\\Users\\Javis\\AppData\\Local\\Temp\\tmpwfxeq1rk\n",
      "INFO:tensorflow:Using the Keras model provided.\n",
      "WARNING:tensorflow:From C:\\ProgramData\\Anaconda3\\envs\\tensorflow_cpu\\lib\\site-packages\\tensorflow_core\\python\\ops\\init_ops.py:97: calling GlorotUniform.__init__ (from tensorflow.python.ops.init_ops) with dtype is deprecated and will be removed in a future version.\n",
      "Instructions for updating:\n",
      "Call initializer instance with the dtype argument instead of passing it to the constructor\n",
      "WARNING:tensorflow:From C:\\ProgramData\\Anaconda3\\envs\\tensorflow_cpu\\lib\\site-packages\\tensorflow_core\\python\\ops\\init_ops.py:97: calling Zeros.__init__ (from tensorflow.python.ops.init_ops) with dtype is deprecated and will be removed in a future version.\n",
      "Instructions for updating:\n",
      "Call initializer instance with the dtype argument instead of passing it to the constructor\n",
      "INFO:tensorflow:Using config: {'_model_dir': 'C:\\\\Users\\\\Javis\\\\AppData\\\\Local\\\\Temp\\\\tmpwfxeq1rk', '_tf_random_seed': None, '_save_summary_steps': 100, '_save_checkpoints_steps': None, '_save_checkpoints_secs': 600, '_session_config': allow_soft_placement: true\n",
      "graph_options {\n",
      "  rewrite_options {\n",
      "    meta_optimizer_iterations: ONE\n",
      "  }\n",
      "}\n",
      ", '_keep_checkpoint_max': 5, '_keep_checkpoint_every_n_hours': 10000, '_log_step_count_steps': 100, '_train_distribute': None, '_device_fn': None, '_protocol': None, '_eval_distribute': None, '_experimental_distribute': None, '_experimental_max_worker_delay_secs': None, '_session_creation_timeout_secs': 7200, '_service': None, '_cluster_spec': <tensorflow.python.training.server_lib.ClusterSpec object at 0x000000534DB02148>, '_task_type': 'worker', '_task_id': 0, '_global_id_in_cluster': 0, '_master': '', '_evaluation_master': '', '_is_chief': True, '_num_ps_replicas': 0, '_num_worker_replicas': 1}\n"
     ]
    }
   ],
   "source": [
    "#converting the keras model to estimator model\n",
    "tf_classifier_model = tf.keras.estimator.model_to_estimator(keras_model=model)"
   ]
  },
  {
   "cell_type": "code",
   "execution_count": 13,
   "metadata": {},
   "outputs": [],
   "source": [
    "input_name = model.input_names[0]\n",
    "\n",
    "#preparing input for training the model with tf.estimator\n",
    "train_input_fn = tf.estimator.inputs.numpy_input_fn(x={input_name: train_features}, y=train_labels_1hot, batch_size=128, \n",
    "                                                    num_epochs=5, shuffle=True)\n",
    "#getting input names\n",
    "feature_columns = [tf.feature_column.numeric_column(input_name, shape=784)]"
   ]
  },
  {
   "cell_type": "code",
   "execution_count": 14,
   "metadata": {},
   "outputs": [],
   "source": [
    "classifier = tf_classifier_model"
   ]
  },
  {
   "cell_type": "code",
   "execution_count": 15,
   "metadata": {},
   "outputs": [
    {
     "name": "stdout",
     "output_type": "stream",
     "text": [
      "WARNING:tensorflow:From C:\\ProgramData\\Anaconda3\\envs\\tensorflow_cpu\\lib\\site-packages\\tensorflow_core\\python\\training\\training_util.py:236: Variable.initialized_value (from tensorflow.python.ops.variables) is deprecated and will be removed in a future version.\n",
      "Instructions for updating:\n",
      "Use Variable.read_value. Variables in 2.X are initialized automatically both in eager and graph (inside tf.defun) contexts.\n",
      "WARNING:tensorflow:From C:\\ProgramData\\Anaconda3\\envs\\tensorflow_cpu\\lib\\site-packages\\tensorflow_estimator\\python\\estimator\\inputs\\queues\\feeding_queue_runner.py:62: QueueRunner.__init__ (from tensorflow.python.training.queue_runner_impl) is deprecated and will be removed in a future version.\n",
      "Instructions for updating:\n",
      "To construct input pipelines, use the `tf.data` module.\n",
      "WARNING:tensorflow:From C:\\ProgramData\\Anaconda3\\envs\\tensorflow_cpu\\lib\\site-packages\\tensorflow_estimator\\python\\estimator\\inputs\\queues\\feeding_functions.py:500: add_queue_runner (from tensorflow.python.training.queue_runner_impl) is deprecated and will be removed in a future version.\n",
      "Instructions for updating:\n",
      "To construct input pipelines, use the `tf.data` module.\n",
      "INFO:tensorflow:Calling model_fn.\n",
      "INFO:tensorflow:Done calling model_fn.\n",
      "INFO:tensorflow:Warm-starting with WarmStartSettings: WarmStartSettings(ckpt_to_initialize_from='C:\\\\Users\\\\Javis\\\\AppData\\\\Local\\\\Temp\\\\tmpwfxeq1rk\\\\keras\\\\keras_model.ckpt', vars_to_warm_start='.*', var_name_to_vocab_info={}, var_name_to_prev_var_name={})\n",
      "INFO:tensorflow:Warm-starting from: C:\\Users\\Javis\\AppData\\Local\\Temp\\tmpwfxeq1rk\\keras\\keras_model.ckpt\n",
      "INFO:tensorflow:Warm-starting variables only in TRAINABLE_VARIABLES.\n",
      "INFO:tensorflow:Warm-started 6 variables.\n",
      "INFO:tensorflow:Create CheckpointSaverHook.\n",
      "WARNING:tensorflow:From C:\\ProgramData\\Anaconda3\\envs\\tensorflow_cpu\\lib\\site-packages\\tensorflow_core\\python\\ops\\array_ops.py:1475: where (from tensorflow.python.ops.array_ops) is deprecated and will be removed in a future version.\n",
      "Instructions for updating:\n",
      "Use tf.where in 2.0, which has the same broadcast rule as np.where\n",
      "INFO:tensorflow:Graph was finalized.\n",
      "INFO:tensorflow:Running local_init_op.\n",
      "INFO:tensorflow:Done running local_init_op.\n",
      "WARNING:tensorflow:From C:\\ProgramData\\Anaconda3\\envs\\tensorflow_cpu\\lib\\site-packages\\tensorflow_core\\python\\training\\monitored_session.py:882: start_queue_runners (from tensorflow.python.training.queue_runner_impl) is deprecated and will be removed in a future version.\n",
      "Instructions for updating:\n",
      "To construct input pipelines, use the `tf.data` module.\n",
      "INFO:tensorflow:Saving checkpoints for 0 into C:\\Users\\Javis\\AppData\\Local\\Temp\\tmpwfxeq1rk\\model.ckpt.\n",
      "INFO:tensorflow:loss = 0.43694323, step = 1\n",
      "INFO:tensorflow:global_step/sec: 46.4874\n",
      "INFO:tensorflow:loss = 0.41039628, step = 101 (2.155 sec)\n",
      "INFO:tensorflow:global_step/sec: 67.7009\n",
      "INFO:tensorflow:loss = 0.49076617, step = 201 (1.478 sec)\n",
      "INFO:tensorflow:global_step/sec: 60.7499\n",
      "INFO:tensorflow:loss = 0.434145, step = 301 (1.646 sec)\n",
      "INFO:tensorflow:global_step/sec: 77.8772\n",
      "INFO:tensorflow:loss = 0.42383635, step = 401 (1.281 sec)\n",
      "INFO:tensorflow:global_step/sec: 78.2428\n",
      "INFO:tensorflow:loss = 0.37024093, step = 501 (1.278 sec)\n",
      "INFO:tensorflow:global_step/sec: 76.9779\n",
      "INFO:tensorflow:loss = 0.425295, step = 601 (1.300 sec)\n",
      "INFO:tensorflow:global_step/sec: 77.6353\n",
      "INFO:tensorflow:loss = 0.2511406, step = 701 (1.287 sec)\n",
      "INFO:tensorflow:global_step/sec: 78.7357\n",
      "INFO:tensorflow:loss = 0.33867007, step = 801 (1.270 sec)\n",
      "INFO:tensorflow:global_step/sec: 77.9986\n",
      "INFO:tensorflow:loss = 0.37688118, step = 901 (1.282 sec)\n",
      "INFO:tensorflow:global_step/sec: 65.313\n",
      "INFO:tensorflow:loss = 0.28423947, step = 1001 (1.531 sec)\n",
      "INFO:tensorflow:global_step/sec: 67.1553\n",
      "INFO:tensorflow:loss = 0.370668, step = 1101 (1.489 sec)\n",
      "INFO:tensorflow:global_step/sec: 75.696\n",
      "INFO:tensorflow:loss = 0.3564531, step = 1201 (1.322 sec)\n",
      "INFO:tensorflow:global_step/sec: 78.4269\n",
      "INFO:tensorflow:loss = 0.3291415, step = 1301 (1.277 sec)\n",
      "INFO:tensorflow:global_step/sec: 74.8459\n",
      "INFO:tensorflow:loss = 0.3785199, step = 1401 (1.334 sec)\n",
      "INFO:tensorflow:global_step/sec: 74.1247\n",
      "INFO:tensorflow:loss = 0.33314776, step = 1501 (1.348 sec)\n",
      "INFO:tensorflow:global_step/sec: 77.4549\n",
      "INFO:tensorflow:loss = 0.4129984, step = 1601 (1.291 sec)\n",
      "INFO:tensorflow:global_step/sec: 77.9987\n",
      "INFO:tensorflow:loss = 0.3186615, step = 1701 (1.282 sec)\n",
      "INFO:tensorflow:global_step/sec: 77.0966\n",
      "INFO:tensorflow:loss = 0.34897357, step = 1801 (1.299 sec)\n",
      "INFO:tensorflow:global_step/sec: 76.0991\n",
      "INFO:tensorflow:loss = 0.3336177, step = 1901 (1.312 sec)\n",
      "INFO:tensorflow:global_step/sec: 55.1845\n",
      "INFO:tensorflow:loss = 0.29233977, step = 2001 (1.815 sec)\n",
      "INFO:tensorflow:global_step/sec: 63.7719\n",
      "INFO:tensorflow:loss = 0.19742721, step = 2101 (1.566 sec)\n",
      "INFO:tensorflow:global_step/sec: 73.6877\n",
      "INFO:tensorflow:loss = 0.35802162, step = 2201 (1.360 sec)\n",
      "INFO:tensorflow:global_step/sec: 75.4675\n",
      "INFO:tensorflow:loss = 0.30520877, step = 2301 (1.322 sec)\n",
      "INFO:tensorflow:Saving checkpoints for 2344 into C:\\Users\\Javis\\AppData\\Local\\Temp\\tmpwfxeq1rk\\model.ckpt.\n",
      "INFO:tensorflow:Loss for final step: 0.4337659.\n"
     ]
    },
    {
     "data": {
      "text/plain": [
       "<tensorflow_estimator.python.estimator.estimator.Estimator at 0x534daff308>"
      ]
     },
     "execution_count": 15,
     "metadata": {},
     "output_type": "execute_result"
    }
   ],
   "source": [
    "#training the model\n",
    "classifier.train(input_fn=train_input_fn)"
   ]
  },
  {
   "cell_type": "code",
   "execution_count": 16,
   "metadata": {},
   "outputs": [
    {
     "name": "stdout",
     "output_type": "stream",
     "text": [
      "INFO:tensorflow:Calling model_fn.\n",
      "INFO:tensorflow:Done calling model_fn.\n",
      "INFO:tensorflow:Starting evaluation at 2019-12-20T23:24:02Z\n",
      "INFO:tensorflow:Graph was finalized.\n",
      "INFO:tensorflow:Restoring parameters from C:\\Users\\Javis\\AppData\\Local\\Temp\\tmpwfxeq1rk\\model.ckpt-2344\n",
      "INFO:tensorflow:Running local_init_op.\n",
      "INFO:tensorflow:Done running local_init_op.\n",
      "INFO:tensorflow:Finished evaluation at 2019-12-20-23:24:04\n",
      "INFO:tensorflow:Saving dict for global step 2344: acc = 0.876, global_step = 2344, loss = 0.34729847\n",
      "INFO:tensorflow:Saving 'checkpoint_path' summary for global step 2344: C:\\Users\\Javis\\AppData\\Local\\Temp\\tmpwfxeq1rk\\model.ckpt-2344\n"
     ]
    },
    {
     "data": {
      "text/plain": [
       "{'acc': 0.876, 'loss': 0.34729847, 'global_step': 2344}"
      ]
     },
     "execution_count": 16,
     "metadata": {},
     "output_type": "execute_result"
    }
   ],
   "source": [
    "#Evaluating the model\n",
    "\n",
    "evaluate_input = tf.estimator.inputs.numpy_input_fn(x={input_name: test_features}, y=test_labels_1hot, num_epochs=1, \n",
    "                                                    shuffle=False)\n",
    "\n",
    "classifier.evaluate(input_fn=evaluate_input)"
   ]
  },
  {
   "cell_type": "code",
   "execution_count": 17,
   "metadata": {},
   "outputs": [
    {
     "name": "stdout",
     "output_type": "stream",
     "text": [
      "WARNING:tensorflow:From <ipython-input-17-c982b02b1846>:7: Estimator.export_savedmodel (from tensorflow_estimator.python.estimator.estimator) is deprecated and will be removed in a future version.\n",
      "Instructions for updating:\n",
      "This function has been renamed, use `export_saved_model` instead.\n",
      "INFO:tensorflow:Calling model_fn.\n",
      "INFO:tensorflow:Done calling model_fn.\n",
      "WARNING:tensorflow:From C:\\ProgramData\\Anaconda3\\envs\\tensorflow_cpu\\lib\\site-packages\\tensorflow_core\\python\\saved_model\\signature_def_utils_impl.py:201: build_tensor_info (from tensorflow.python.saved_model.utils_impl) is deprecated and will be removed in a future version.\n",
      "Instructions for updating:\n",
      "This function will only be available through the v1 compatibility library as tf.compat.v1.saved_model.utils.build_tensor_info or tf.compat.v1.saved_model.build_tensor_info.\n",
      "INFO:tensorflow:Signatures INCLUDED in export for Classify: None\n",
      "INFO:tensorflow:Signatures INCLUDED in export for Regress: None\n",
      "INFO:tensorflow:Signatures INCLUDED in export for Predict: ['serving_default']\n",
      "INFO:tensorflow:Signatures INCLUDED in export for Train: None\n",
      "INFO:tensorflow:Signatures INCLUDED in export for Eval: None\n",
      "INFO:tensorflow:Restoring parameters from C:\\Users\\Javis\\AppData\\Local\\Temp\\tmpwfxeq1rk\\model.ckpt-2344\n",
      "INFO:tensorflow:Assets added to graph.\n",
      "INFO:tensorflow:No assets to write.\n",
      "INFO:tensorflow:SavedModel written to: temp-b'1576880649'\\saved_model.pb\n"
     ]
    }
   ],
   "source": [
    "#save the model trianed with the estimator\n",
    "feature_spec = {\n",
    "    input_name: tf.FixedLenFeature(shape=[784], dtype=np.float32)\n",
    "}\n",
    "serving_fn = tf.estimator.export.build_parsing_serving_input_receiver_fn(feature_spec)\n",
    "export_dir = classifier.export_savedmodel(export_dir_base=\"\", \n",
    "                            serving_input_receiver_fn=serving_fn)\n",
    "export_dir = export_dir.decode(\"utf8\")"
   ]
  }
 ],
 "metadata": {
  "kernelspec": {
   "display_name": "Python 3",
   "language": "python",
   "name": "python3"
  },
  "language_info": {
   "codemirror_mode": {
    "name": "ipython",
    "version": 3
   },
   "file_extension": ".py",
   "mimetype": "text/x-python",
   "name": "python",
   "nbconvert_exporter": "python",
   "pygments_lexer": "ipython3",
   "version": "3.7.4"
  }
 },
 "nbformat": 4,
 "nbformat_minor": 2
}
